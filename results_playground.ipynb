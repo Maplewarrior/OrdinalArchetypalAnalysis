{
 "cells": [
  {
   "cell_type": "code",
   "execution_count": 2,
   "metadata": {},
   "outputs": [],
   "source": [
    "import pickle\n",
    "import os\n",
    "import pandas as pd\n",
    "from src.utils.additional_plotting_functions import loss_archetype_plot\n"
   ]
  },
  {
   "cell_type": "code",
   "execution_count": 26,
   "metadata": {},
   "outputs": [],
   "source": [
    "def load_result_obj(path: str):\n",
    "    file = open(path,'rb')\n",
    "    object_file = pickle.load(file)\n",
    "    file.close()\n",
    "    return object_file\n",
    "\n",
    "def load_analyses(analysis_dir: str):\n",
    "    \"\"\"\n",
    "    Function that loads results from a given analysis.\n",
    "    The format is a nested dictionary on the form results[AA_method][n_archetypes][repetition_num]\n",
    "    The result objects saved have all matrices and parameters inside them. E\n",
    "    \"\"\"\n",
    "    folder = f'synthetic_results/{analysis_dir}'\n",
    "    results = {'RBOAA': {}, 'OAA': {}, 'CAA': {}} if 'OSM' not in analysis_dir else {'TSAA': {}}\n",
    "\n",
    "    for method in results.keys():\n",
    "        method_dir = f'{folder}/{method}_objects'\n",
    "        all_files = os.listdir(method_dir)\n",
    "        for file in all_files:\n",
    "            obj = load_result_obj(f'{method_dir}/{file}')\n",
    "            K = int(file.split('_')[1][-1])\n",
    "            rep = int(file.split('_')[-1][-1])\n",
    "            if f'K{K}' not in results[method].keys():\n",
    "                results[method][f'K{K}'] = {}\n",
    "            \n",
    "            results[method][f'K{K}'][rep] = obj\n",
    "    return results\n"
   ]
  },
  {
   "cell_type": "code",
   "execution_count": 27,
   "metadata": {},
   "outputs": [],
   "source": [
    "complex_corr = load_analyses('complex_corrupted_results')"
   ]
  },
  {
   "cell_type": "code",
   "execution_count": 28,
   "metadata": {},
   "outputs": [
    {
     "name": "stdout",
     "output_type": "stream",
     "text": [
      "Example of extracting results\n",
      "A matrix (S):  (50, 1000)\n",
      "B matrix (C):  (1000, 50)\n",
      "archetype matrix:  (20, 50)\n",
      "betas:  (1000, 4)\n"
     ]
    }
   ],
   "source": [
    "print('Example of extracting results')\n",
    "print(\"A matrix (S): \", complex_corr['RBOAA']['K0'][0].A.shape)\n",
    "print(\"B matrix (C): \", complex_corr['RBOAA']['K0'][0].B.shape)\n",
    "print(\"archetype matrix: \", complex_corr['RBOAA']['K0'][0].Z.shape)\n",
    "print(\"betas: \", complex_corr['RBOAA']['K0'][0].b.shape)"
   ]
  },
  {
   "cell_type": "code",
   "execution_count": 29,
   "metadata": {},
   "outputs": [
    {
     "data": {
      "text/plain": [
       "array([[2.92391883e-06, 9.68056270e-07, 2.98350733e-05, ...,\n",
       "        1.22192898e-06, 8.57570626e-07, 1.20411607e-06],\n",
       "       [5.02369119e-07, 6.59679301e-07, 9.05763898e-07, ...,\n",
       "        2.95551331e-06, 1.22838856e-06, 3.95413764e-07],\n",
       "       [1.35461528e-06, 4.35321954e-06, 1.96922383e-06, ...,\n",
       "        6.36297613e-02, 5.02805449e-07, 6.93182374e-05],\n",
       "       ...,\n",
       "       [2.23997426e-06, 3.94997895e-01, 4.64582627e-06, ...,\n",
       "        5.34586012e-02, 1.86042905e-06, 7.13271618e-07],\n",
       "       [1.11571126e-01, 1.14502927e-06, 1.00055240e-05, ...,\n",
       "        1.22106462e-06, 1.98472344e-06, 3.62871134e-07],\n",
       "       [6.60232445e-06, 1.73802600e-05, 4.26272936e-06, ...,\n",
       "        1.04532883e-04, 6.57081227e-06, 1.51987376e-06]], dtype=float32)"
      ]
     },
     "execution_count": 29,
     "metadata": {},
     "output_type": "execute_result"
    }
   ],
   "source": [
    "complex_corr['CAA']['K0'][0].A"
   ]
  },
  {
   "cell_type": "code",
   "execution_count": 32,
   "metadata": {},
   "outputs": [
    {
     "data": {
      "text/plain": [
       "<src.utils.AA_result_class._OAA_result at 0x2606877dff0>"
      ]
     },
     "execution_count": 32,
     "metadata": {},
     "output_type": "execute_result"
    }
   ],
   "source": [
    "complex_corr['RBOAA']['K0'][0]"
   ]
  },
  {
   "cell_type": "code",
   "execution_count": 34,
   "metadata": {},
   "outputs": [],
   "source": [
    "OAA_test = load_result_obj('synthetic_results/TestMHA/OAA_objects/RBOAA_K=1_rep=0')"
   ]
  }
 ],
 "metadata": {
  "kernelspec": {
   "display_name": "venv",
   "language": "python",
   "name": "python3"
  },
  "language_info": {
   "codemirror_mode": {
    "name": "ipython",
    "version": 3
   },
   "file_extension": ".py",
   "mimetype": "text/x-python",
   "name": "python",
   "nbconvert_exporter": "python",
   "pygments_lexer": "ipython3",
   "version": "3.10.10"
  }
 },
 "nbformat": 4,
 "nbformat_minor": 2
}
