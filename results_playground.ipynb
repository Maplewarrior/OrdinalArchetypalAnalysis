{
 "cells": [
  {
   "cell_type": "code",
   "execution_count": 61,
   "metadata": {},
   "outputs": [],
   "source": [
    "import pickle\n",
    "import os\n",
    "import re\n",
    "import pandas as pd\n",
    "from src.utils.additional_plotting_functions import loss_archetype_plot\n"
   ]
  },
  {
   "cell_type": "code",
   "execution_count": 71,
   "metadata": {},
   "outputs": [],
   "source": [
    "def load_result_obj(path: str):\n",
    "    file = open(path,'rb')\n",
    "    object_file = pickle.load(file)\n",
    "    file.close()\n",
    "    return object_file\n",
    "\n",
    "def load_analyses(analysis_dir: str):\n",
    "    \"\"\"\n",
    "    Function that loads results from a given analysis.\n",
    "    The format is a nested dictionary on the form results[AA_method][n_archetypes][repetition_num]\n",
    "    The result objects saved have all matrices and parameters inside them. E\n",
    "    \"\"\"\n",
    "    folder = f'synthetic_results/{analysis_dir}'\n",
    "    results = {'RBOAA': {}, 'OAA': {}, 'CAA': {}} if 'OSM' not in analysis_dir else {'TSAA': {}}\n",
    "\n",
    "    for method in results.keys():\n",
    "        method_dir = f'{folder}/{method}_objects'\n",
    "        all_files = os.listdir(method_dir)\n",
    "        for file in all_files:\n",
    "            obj = load_result_obj(f'{method_dir}/{file}')\n",
    "            K = re.sub('[^0-9]', '', file.split('_')[1])\n",
    "            rep = int(file.split('_')[-1][-1])\n",
    "            if f'K{K}' not in results[method].keys():\n",
    "                results[method][f'K{K}'] = {}\n",
    "            \n",
    "            results[method][f'K{K}'][rep] = obj\n",
    "    return results\n"
   ]
  },
  {
   "cell_type": "code",
   "execution_count": 72,
   "metadata": {},
   "outputs": [
    {
     "data": {
      "text/plain": [
       "140"
      ]
     },
     "execution_count": 72,
     "metadata": {},
     "output_type": "execute_result"
    }
   ],
   "source": [
    "len(os.listdir('synthetic_results/complex_corrupted_results/RBOAA_objects'))"
   ]
  },
  {
   "cell_type": "code",
   "execution_count": 73,
   "metadata": {},
   "outputs": [
    {
     "data": {
      "text/plain": [
       "14"
      ]
     },
     "execution_count": 73,
     "metadata": {},
     "output_type": "execute_result"
    }
   ],
   "source": [
    "complex_corr = load_analyses('complex_corrupted_results')\n",
    "len(complex_corr['RBOAA'])"
   ]
  },
  {
   "cell_type": "code",
   "execution_count": 74,
   "metadata": {},
   "outputs": [
    {
     "data": {
      "text/plain": [
       "dict_keys(['K10', 'K1', 'K20', 'K2', 'K30', 'K3', 'K40', 'K4', 'K50', 'K5', 'K6', 'K7', 'K8', 'K9'])"
      ]
     },
     "execution_count": 74,
     "metadata": {},
     "output_type": "execute_result"
    }
   ],
   "source": [
    "complex_corr['RBOAA'].keys()"
   ]
  },
  {
   "cell_type": "code",
   "execution_count": 53,
   "metadata": {},
   "outputs": [
    {
     "data": {
      "text/plain": [
       "['RBOAA_K=10_rep=0',\n",
       " 'RBOAA_K=10_rep=1',\n",
       " 'RBOAA_K=10_rep=2',\n",
       " 'RBOAA_K=10_rep=3',\n",
       " 'RBOAA_K=10_rep=4',\n",
       " 'RBOAA_K=10_rep=5',\n",
       " 'RBOAA_K=10_rep=6',\n",
       " 'RBOAA_K=10_rep=7',\n",
       " 'RBOAA_K=10_rep=8',\n",
       " 'RBOAA_K=10_rep=9',\n",
       " 'RBOAA_K=1_rep=0',\n",
       " 'RBOAA_K=1_rep=1',\n",
       " 'RBOAA_K=1_rep=2',\n",
       " 'RBOAA_K=1_rep=3',\n",
       " 'RBOAA_K=1_rep=4',\n",
       " 'RBOAA_K=1_rep=5',\n",
       " 'RBOAA_K=1_rep=6',\n",
       " 'RBOAA_K=1_rep=7',\n",
       " 'RBOAA_K=1_rep=8',\n",
       " 'RBOAA_K=1_rep=9',\n",
       " 'RBOAA_K=20_rep=0',\n",
       " 'RBOAA_K=20_rep=1',\n",
       " 'RBOAA_K=20_rep=2',\n",
       " 'RBOAA_K=20_rep=3',\n",
       " 'RBOAA_K=20_rep=4',\n",
       " 'RBOAA_K=20_rep=5',\n",
       " 'RBOAA_K=20_rep=6',\n",
       " 'RBOAA_K=20_rep=7',\n",
       " 'RBOAA_K=20_rep=8',\n",
       " 'RBOAA_K=20_rep=9',\n",
       " 'RBOAA_K=2_rep=0',\n",
       " 'RBOAA_K=2_rep=1',\n",
       " 'RBOAA_K=2_rep=2',\n",
       " 'RBOAA_K=2_rep=3',\n",
       " 'RBOAA_K=2_rep=4',\n",
       " 'RBOAA_K=2_rep=5',\n",
       " 'RBOAA_K=2_rep=6',\n",
       " 'RBOAA_K=2_rep=7',\n",
       " 'RBOAA_K=2_rep=8',\n",
       " 'RBOAA_K=2_rep=9',\n",
       " 'RBOAA_K=30_rep=0',\n",
       " 'RBOAA_K=30_rep=1',\n",
       " 'RBOAA_K=30_rep=2',\n",
       " 'RBOAA_K=30_rep=3',\n",
       " 'RBOAA_K=30_rep=4',\n",
       " 'RBOAA_K=30_rep=5',\n",
       " 'RBOAA_K=30_rep=6',\n",
       " 'RBOAA_K=30_rep=7',\n",
       " 'RBOAA_K=30_rep=8',\n",
       " 'RBOAA_K=30_rep=9',\n",
       " 'RBOAA_K=3_rep=0',\n",
       " 'RBOAA_K=3_rep=1',\n",
       " 'RBOAA_K=3_rep=2',\n",
       " 'RBOAA_K=3_rep=3',\n",
       " 'RBOAA_K=3_rep=4',\n",
       " 'RBOAA_K=3_rep=5',\n",
       " 'RBOAA_K=3_rep=6',\n",
       " 'RBOAA_K=3_rep=7',\n",
       " 'RBOAA_K=3_rep=8',\n",
       " 'RBOAA_K=3_rep=9',\n",
       " 'RBOAA_K=40_rep=0',\n",
       " 'RBOAA_K=40_rep=1',\n",
       " 'RBOAA_K=40_rep=2',\n",
       " 'RBOAA_K=40_rep=3',\n",
       " 'RBOAA_K=40_rep=4',\n",
       " 'RBOAA_K=40_rep=5',\n",
       " 'RBOAA_K=40_rep=6',\n",
       " 'RBOAA_K=40_rep=7',\n",
       " 'RBOAA_K=40_rep=8',\n",
       " 'RBOAA_K=40_rep=9',\n",
       " 'RBOAA_K=4_rep=0',\n",
       " 'RBOAA_K=4_rep=1',\n",
       " 'RBOAA_K=4_rep=2',\n",
       " 'RBOAA_K=4_rep=3',\n",
       " 'RBOAA_K=4_rep=4',\n",
       " 'RBOAA_K=4_rep=5',\n",
       " 'RBOAA_K=4_rep=6',\n",
       " 'RBOAA_K=4_rep=7',\n",
       " 'RBOAA_K=4_rep=8',\n",
       " 'RBOAA_K=4_rep=9',\n",
       " 'RBOAA_K=50_rep=0',\n",
       " 'RBOAA_K=50_rep=1',\n",
       " 'RBOAA_K=50_rep=2',\n",
       " 'RBOAA_K=50_rep=3',\n",
       " 'RBOAA_K=50_rep=4',\n",
       " 'RBOAA_K=50_rep=5',\n",
       " 'RBOAA_K=50_rep=6',\n",
       " 'RBOAA_K=50_rep=7',\n",
       " 'RBOAA_K=50_rep=8',\n",
       " 'RBOAA_K=50_rep=9',\n",
       " 'RBOAA_K=5_rep=0',\n",
       " 'RBOAA_K=5_rep=1',\n",
       " 'RBOAA_K=5_rep=2',\n",
       " 'RBOAA_K=5_rep=3',\n",
       " 'RBOAA_K=5_rep=4',\n",
       " 'RBOAA_K=5_rep=5',\n",
       " 'RBOAA_K=5_rep=6',\n",
       " 'RBOAA_K=5_rep=7',\n",
       " 'RBOAA_K=5_rep=8',\n",
       " 'RBOAA_K=5_rep=9',\n",
       " 'RBOAA_K=6_rep=0',\n",
       " 'RBOAA_K=6_rep=1',\n",
       " 'RBOAA_K=6_rep=2',\n",
       " 'RBOAA_K=6_rep=3',\n",
       " 'RBOAA_K=6_rep=4',\n",
       " 'RBOAA_K=6_rep=5',\n",
       " 'RBOAA_K=6_rep=6',\n",
       " 'RBOAA_K=6_rep=7',\n",
       " 'RBOAA_K=6_rep=8',\n",
       " 'RBOAA_K=6_rep=9',\n",
       " 'RBOAA_K=7_rep=0',\n",
       " 'RBOAA_K=7_rep=1',\n",
       " 'RBOAA_K=7_rep=2',\n",
       " 'RBOAA_K=7_rep=3',\n",
       " 'RBOAA_K=7_rep=4',\n",
       " 'RBOAA_K=7_rep=5',\n",
       " 'RBOAA_K=7_rep=6',\n",
       " 'RBOAA_K=7_rep=7',\n",
       " 'RBOAA_K=7_rep=8',\n",
       " 'RBOAA_K=7_rep=9',\n",
       " 'RBOAA_K=8_rep=0',\n",
       " 'RBOAA_K=8_rep=1',\n",
       " 'RBOAA_K=8_rep=2',\n",
       " 'RBOAA_K=8_rep=3',\n",
       " 'RBOAA_K=8_rep=4',\n",
       " 'RBOAA_K=8_rep=5',\n",
       " 'RBOAA_K=8_rep=6',\n",
       " 'RBOAA_K=8_rep=7',\n",
       " 'RBOAA_K=8_rep=8',\n",
       " 'RBOAA_K=8_rep=9',\n",
       " 'RBOAA_K=9_rep=0',\n",
       " 'RBOAA_K=9_rep=1',\n",
       " 'RBOAA_K=9_rep=2',\n",
       " 'RBOAA_K=9_rep=3',\n",
       " 'RBOAA_K=9_rep=4',\n",
       " 'RBOAA_K=9_rep=5',\n",
       " 'RBOAA_K=9_rep=6',\n",
       " 'RBOAA_K=9_rep=7',\n",
       " 'RBOAA_K=9_rep=8',\n",
       " 'RBOAA_K=9_rep=9']"
      ]
     },
     "execution_count": 53,
     "metadata": {},
     "output_type": "execute_result"
    }
   ],
   "source": [
    "os.listdir('synthetic_results/naive_corrupted_results/RBOAA_objects')"
   ]
  },
  {
   "cell_type": "code",
   "execution_count": 60,
   "metadata": {},
   "outputs": [
    {
     "data": {
      "text/plain": [
       "'20'"
      ]
     },
     "execution_count": 60,
     "metadata": {},
     "output_type": "execute_result"
    }
   ],
   "source": [
    "import re\n",
    "re.sub('[^0-9]', '', 'K=20')\n",
    "# 'RBOAA_K=20_rep=0'.split('_')[1]"
   ]
  },
  {
   "cell_type": "code",
   "execution_count": 52,
   "metadata": {},
   "outputs": [
    {
     "name": "stdout",
     "output_type": "stream",
     "text": [
      "Example of extracting results\n",
      "A matrix (S):  (1, 1000)\n",
      "B matrix (C):  (1000, 1)\n",
      "archetype matrix:  (20, 1)\n",
      "betas:  (1000, 6)\n"
     ]
    }
   ],
   "source": [
    "print('Example of extracting results')\n",
    "print(\"A matrix (S): \", complex_corr['RBOAA']['K1'][0].A.shape)\n",
    "print(\"B matrix (C): \", complex_corr['RBOAA']['K1'][0].B.shape)\n",
    "print(\"archetype matrix: \", complex_corr['RBOAA']['K1'][0].Z.shape)\n",
    "print(\"betas: \", complex_corr['RBOAA']['K1'][0].b.shape)"
   ]
  },
  {
   "cell_type": "code",
   "execution_count": 29,
   "metadata": {},
   "outputs": [
    {
     "data": {
      "text/plain": [
       "array([[2.92391883e-06, 9.68056270e-07, 2.98350733e-05, ...,\n",
       "        1.22192898e-06, 8.57570626e-07, 1.20411607e-06],\n",
       "       [5.02369119e-07, 6.59679301e-07, 9.05763898e-07, ...,\n",
       "        2.95551331e-06, 1.22838856e-06, 3.95413764e-07],\n",
       "       [1.35461528e-06, 4.35321954e-06, 1.96922383e-06, ...,\n",
       "        6.36297613e-02, 5.02805449e-07, 6.93182374e-05],\n",
       "       ...,\n",
       "       [2.23997426e-06, 3.94997895e-01, 4.64582627e-06, ...,\n",
       "        5.34586012e-02, 1.86042905e-06, 7.13271618e-07],\n",
       "       [1.11571126e-01, 1.14502927e-06, 1.00055240e-05, ...,\n",
       "        1.22106462e-06, 1.98472344e-06, 3.62871134e-07],\n",
       "       [6.60232445e-06, 1.73802600e-05, 4.26272936e-06, ...,\n",
       "        1.04532883e-04, 6.57081227e-06, 1.51987376e-06]], dtype=float32)"
      ]
     },
     "execution_count": 29,
     "metadata": {},
     "output_type": "execute_result"
    }
   ],
   "source": [
    "complex_corr['CAA']['K0'][0].A"
   ]
  },
  {
   "cell_type": "code",
   "execution_count": 32,
   "metadata": {},
   "outputs": [
    {
     "data": {
      "text/plain": [
       "<src.utils.AA_result_class._OAA_result at 0x2606877dff0>"
      ]
     },
     "execution_count": 32,
     "metadata": {},
     "output_type": "execute_result"
    }
   ],
   "source": [
    "complex_corr['RBOAA']['K0'][0]"
   ]
  }
 ],
 "metadata": {
  "kernelspec": {
   "display_name": "venv",
   "language": "python",
   "name": "python3"
  },
  "language_info": {
   "codemirror_mode": {
    "name": "ipython",
    "version": 3
   },
   "file_extension": ".py",
   "mimetype": "text/x-python",
   "name": "python",
   "nbconvert_exporter": "python",
   "pygments_lexer": "ipython3",
   "version": "3.10.10"
  }
 },
 "nbformat": 4,
 "nbformat_minor": 2
}
