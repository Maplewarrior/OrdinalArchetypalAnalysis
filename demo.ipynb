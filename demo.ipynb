{
 "cells": [
  {
   "cell_type": "markdown",
   "metadata": {},
   "source": [
    "# Ordinal Archetypal Analysis"
   ]
  },
  {
   "cell_type": "markdown",
   "metadata": {},
   "source": [
    "## Contents\n",
    "\n",
    "- [Introduction](##Introduction)\n",
    "\n",
    "- [Configuration](##Configuration)\n",
    "\n",
    "\n",
    "- [Synthetic experiments](##Synthetic-experiments)\n",
    "\n",
    "\n",
    "- [ESS8 experiments](#ess8-experiments)"
   ]
  },
  {
   "cell_type": "markdown",
   "metadata": {},
   "source": [
    "## 👋 Introduction 👋\n",
    "This is a demo aimed at introducing the codebase and reproducing the main results presented in the paper *\"Ordinal Archetypal Analysis for Modelling Human Response Bias\"*.\n",
    "\n",
    "[Archetypal Analysis](https://digitalassets.lib.berkeley.edu/sdtr/ucb/text/379.pdf) can be expressed in the following form:\n",
    "\n",
    "\\begin{equation} \n",
    "\\begin{array}{clll}\n",
    "\\min _{\\mathbf{C}, \\mathbf{S}} & L(\\mathbf{X},\\mathbf{R})&\n",
    "\\text { s.t. } & \\mathbf{R} = \\mathbf{XCS} \\\\\n",
    "&&&\n",
    "c_{j, k} \\geq 0, \\quad s_{k, j} \\geq 0 \\\\\n",
    "&&& \\sum_j c_{j,k} = 1, \\quad \\sum_k s_{k,j} = 1,\n",
    "\\end{array}\n",
    "\\end{equation}\n",
    "\n",
    "In the paper we show that this can be tailored specifically to ordinal data and expand the model to include subject specific response bias. We showcase the usefulness of this model on synthetic data with and without response bias and then go on to test the model on real world data, namely data from a European Survey on Human Values. \n",
    "\n",
    "The codebase consists of several classes in which the methods are implemented and results are produced and visualized. The endpoint for which to run the code is the $\\texttt{main.py}$ file. It is setup to use argparser and supports both running experiments and visualizing results. Analyses are saved to the ./results/ folder and plots in the ./figures/ folder. \n",
    "\n",
    "[Fernández et al.](https://www.sciencedirect.com/science/article/pii/S002002552100791X) implemented the OSM method in R. As a result, the path to the output file of this analysis needs to be specified in order to run these analyses. \n",
    "For the synthetic experiments, we provide the OSM outputs directly. For the ESS8 dataset, we provide the ordinal mapping of Likert scale points that the OSM model found after convergence. To use the latter, one has to download the ESS8 dataset and map each entry to the continuous likert scale provided as as preprocessing step.\n",
    "\n",
    "\n",
    "The source code is found in the src folder. We advise that you use the argparser setup when running experiments. If you, however, wish to circumvent this, we recommend looking in src/methods and particularly the $\\texttt{self.compute\\_archetypes}$ method of each class along with the $\\texttt{ResultMaker}$ class."
   ]
  },
  {
   "cell_type": "markdown",
   "metadata": {},
   "source": [
    "## 🔨 Configuration 🔨\n",
    "\n",
    "To keep hyperparameters and paths managable .yaml files are used for configuring experiments. Some of the parameters are covered in this demo - please consult $\\texttt{config.yaml}$ and the inline comments for an exhaustive overview. To keep the number of configuration files managable parts of the config are populated via the argparse in main.py.\n",
    "\n",
    "If you are ever in doubt about what parameters were used during an experiment refer to the \"experiment_config.json\" file found under the --save-folder specified when running $\\texttt{main.py}$."
   ]
  },
  {
   "cell_type": "code",
   "execution_count": 3,
   "metadata": {},
   "outputs": [],
   "source": [
    "def print_data_params(cfg: dict):\n",
    "    if cfg['data']['use_synthetic_data']:\n",
    "        print(\"\\nQuestionnaire data will be synthetic with parameters:\")\n",
    "        [print(f\"{k}: {v}\") for k, v in cfg['data']['synthetic_data_params'].items()]\n",
    "    else:\n",
    "        print(f\"Questionnaire data will be loaded from {cfg['data']['input_data_path']}\")\n",
    "\n",
    "    if cfg['data']['do_corrupt']:\n",
    "        print(f\"Data will be corrupted with probability {cfg['data']['p_corrupt']}\")\n",
    "\n",
    "    print(\"\\nresults will be saved to: \", cfg['data']['results']['checkpoint_dir'])\n",
    "\n",
    "def print_hyperparams(cfg: dict):\n",
    "    print(\"hyperparameters for which all combinations will be tested:\\n\")\n",
    "    [print(f'{k}: {v}') for k, v in cfg['training']['parameter_tuning'].items()]\n",
    "    print(\"\")"
   ]
  },
  {
   "cell_type": "markdown",
   "metadata": {},
   "source": [
    "## 🔬 Synthetic experiments 🔬\n",
    "\n",
    "To test the model synthetic data was generated. We ran the main experiments: \n",
    "\n",
    "- 1000 subjects and 20 questions\n",
    "- 1000 subjects and 100 questions. \n",
    "\n",
    "Furthermore we corrupted 1% of the data and examined our models susceptibility to noise, as described in the paper. \n",
    "\n",
    "\n",
    "The following code shows the key parameters of the experiment. "
   ]
  },
  {
   "cell_type": "code",
   "execution_count": 4,
   "metadata": {},
   "outputs": [
    {
     "name": "stdout",
     "output_type": "stream",
     "text": [
      "\n",
      "Questionnaire data will be synthetic with parameters:\n",
      "a_param: [1]\n",
      "b_param: [1.5]\n",
      "sigma: [-9.21]\n",
      "sigma_dev: [1e-06]\n",
      "N: 1000\n",
      "M: None\n",
      "K: 3\n",
      "rb: None\n",
      "p: 5\n",
      "\n",
      "results will be saved to:  results/..\n"
     ]
    }
   ],
   "source": [
    "from src.misc.read_config import load_config\n",
    "config_path = 'configs/config.yaml'\n",
    "synthetic_cfg = load_config('configs/synthetic_config.yaml')\n",
    "# synthetic_cfg = set_params(synthetic_cfg, synthetic=True, M=20, rb=True, checkpoint_dir='results/synthetic_Q20_RB')\n",
    "print_data_params(synthetic_cfg)"
   ]
  },
  {
   "cell_type": "markdown",
   "metadata": {},
   "source": [
    "Here are some key analysis parameters in the current configuration"
   ]
  },
  {
   "cell_type": "code",
   "execution_count": 5,
   "metadata": {},
   "outputs": [
    {
     "name": "stdout",
     "output_type": "stream",
     "text": [
      "hyperparameters for which all combinations will be tested:\n",
      "\n",
      "method: ['CAA', 'TSAA', 'OAA', 'RBOAA']\n",
      "with_init: [True]\n",
      "beta_regulators: [True]\n",
      "alternating: [False]\n",
      "n_archetypes: [2, 3, 4, 5, 6, 7, 8, 9, 10, 20, 30, 40, 50]\n",
      "\n"
     ]
    }
   ],
   "source": [
    "print_hyperparams(synthetic_cfg)"
   ]
  },
  {
   "cell_type": "markdown",
   "metadata": {},
   "source": [
    "The below command runs analyses with the above hyperparameters"
   ]
  },
  {
   "cell_type": "code",
   "execution_count": 6,
   "metadata": {},
   "outputs": [
    {
     "name": "stdout",
     "output_type": "stream",
     "text": [
      "^C\n"
     ]
    }
   ],
   "source": [
    "! python main.py analyse --config-path configs/synthetic_config.yaml --save-folder synthetic_Q20_RB --M 20 --rb --OSM-path data/synthetic/X_Q20_RB_OSM.csv"
   ]
  },
  {
   "cell_type": "markdown",
   "metadata": {},
   "source": [
    "To visualize the analysis results run:"
   ]
  },
  {
   "cell_type": "code",
   "execution_count": null,
   "metadata": {},
   "outputs": [
    {
     "name": "stdout",
     "output_type": "stream",
     "text": [
      "/Users/michaelharborg/Desktop/AAM/AAM-Module-V3/src/visualizations/archetypal_answers.py:14: FutureWarning: Downcasting object dtype arrays on .fillna, .ffill, .bfill is deprecated and will change in a future version. Call result.infer_objects(copy=False) instead. To opt-in to the future behavior, set `pd.set_option('future.no_silent_downcasting', True)`\n",
      "  likert_counts = likert_counts.fillna(0)\n",
      "Successfully created visualizations. The plots have been saved to figures/synthetic_Q20_RB\n"
     ]
    }
   ],
   "source": [
    "! python main.py visualize --config-path configs/synthetic_config.yaml --save-folder synthetic_Q20_RB"
   ]
  },
  {
   "cell_type": "markdown",
   "metadata": {},
   "source": [
    "#### Corruption experiment\n",
    "To run the data corruption experiment corresponding to the above analysis simply add the --corrupt argument as:"
   ]
  },
  {
   "cell_type": "code",
   "execution_count": null,
   "metadata": {},
   "outputs": [],
   "source": [
    "! python main.py analyse --config-path configs/synthetic_config.yaml --rb --M 20 --corrupt --save-folder synthetic_Q20_RB_corrupted --OSM-path data/synthetic/X_Q20_RB_corrupted_OSM.csv\n",
    "! python main.py visualize --config-path configs/synthetic_config.yaml --save-folder synthetic_Q20_RB_corrupted --corrupt"
   ]
  },
  {
   "cell_type": "markdown",
   "metadata": {},
   "source": [
    "#### No RB experiment"
   ]
  },
  {
   "cell_type": "code",
   "execution_count": null,
   "metadata": {},
   "outputs": [],
   "source": [
    "! python main.py analyse --config-path configs/synthetic_config.yaml --save-folder synthetic_Q20_NoRB --M 20 --OSM-path data/synthetic/X_Q20_NoRB_OSM.csv\n",
    "! python main.py visualize --config-path configs/synthetic_config.yaml --save-folder synthetic_Q20_NoRB"
   ]
  },
  {
   "cell_type": "markdown",
   "metadata": {},
   "source": [
    "And to run the experiment with corruption execute the following:"
   ]
  },
  {
   "cell_type": "code",
   "execution_count": null,
   "metadata": {},
   "outputs": [],
   "source": [
    "! python main.py analyse --config-path configs/synthetic_config.yaml --M 20 --corrupt --save-folder synthetic_Q20_NoRB_corrupted --OSM-path data/synthetic/X_Q20_NoRB_OSM_corrupted.csv\n",
    "! python main.py visualize --config-path configs/synthetic_config.yaml --corrupt --save-folder synthetic_Q20_NoRB_corrupted"
   ]
  },
  {
   "cell_type": "markdown",
   "metadata": {},
   "source": [
    "For M = 100 questions, simply run the above code with --M 100 instead of 20."
   ]
  },
  {
   "cell_type": "code",
   "execution_count": null,
   "metadata": {},
   "outputs": [],
   "source": [
    "# Q100 with RB\n",
    "! python main.py analyse --config-path configs/synthetic_config.yaml --save-folder synthetic_Q100_RB --M 100 --rb\n",
    "! python main.py visualize --config-path configs/synthetic_config.yaml --save-folder synthetic_Q20_RB\n",
    "\n",
    "# Q100 with RB corrupted\n",
    "! python main.py analyse --config-path configs/synthetic_config.yaml --rb --M 100 --corrupt --save-folder synthetic_Q100_RB_corrupted\n",
    "! python main.py visualize --config-path configs/synthetic_config.yaml --save-folder synthetic_Q100_RB_corrupted --corrupt\n",
    "\n",
    "# Q100 without RB\n",
    "! python main.py analyse --config-path configs/synthetic_config.yaml --save-folder synthetic_Q100_NoRB --M 100\n",
    "! python main.py visualize --config-path configs/synthetic_config.yaml --save-folder synthetic_Q100_NoRB\n",
    "\n",
    "# Q100 without RB corrupted\n",
    "! python main.py analyse --config-path configs/synthetic_config.yaml --M 100 --corrupt --save-folder synthetic_Q100_NoRB_corrupted\n",
    "! python main.py visualize --config-path configs/synthetic_config.yaml --corrupt --save-folder synthetic_Q100_NoRB_corrupted"
   ]
  },
  {
   "cell_type": "markdown",
   "metadata": {},
   "source": [
    "## 📊 ESS8 experiments 📊\n",
    "European Social Survey 2008 ([ESS8](https://ess.sikt.no/en/?tab=overview))"
   ]
  },
  {
   "cell_type": "code",
   "execution_count": null,
   "metadata": {},
   "outputs": [],
   "source": [
    "ess8_cfg = load_config('configs/ESS8_config.yaml')\n",
    "print_data_params(ess8_cfg)\n",
    "print_hyperparams(ess8_cfg)"
   ]
  },
  {
   "cell_type": "code",
   "execution_count": null,
   "metadata": {},
   "outputs": [],
   "source": [
    "!python main.py analyse --config-path configs/ESS8_config.yaml --save-folder ESS8_GB --X-path data/ESS8/ESS8_GB.csv --OSM-path data/ESS8/GB_OSM.csv\n",
    "\n",
    "!python main.py visualize ----config-path configs/ESS8_config.yaml --save-folder ESS8_GB"
   ]
  },
  {
   "cell_type": "markdown",
   "metadata": {},
   "source": [
    "ESS8 GB corrupted analysis"
   ]
  },
  {
   "cell_type": "code",
   "execution_count": null,
   "metadata": {},
   "outputs": [],
   "source": [
    "!python main.py analyse --config-path configs/ESS8_config.yaml --save-folder ESS8_GB_corrupted --corrupt --X-path data/ESS8/ESS8_GB.csv --OSM-path data/ESS8/GB_data_OSM_corrupted.csv\n",
    "\n",
    "!python main.py visualize --config-path configs/ESS8_config.yaml --save-folder ESS8_GB_corrupted"
   ]
  }
 ],
 "metadata": {
  "kernelspec": {
   "display_name": "venv",
   "language": "python",
   "name": "python3"
  },
  "language_info": {
   "codemirror_mode": {
    "name": "ipython",
    "version": 3
   },
   "file_extension": ".py",
   "mimetype": "text/x-python",
   "name": "python",
   "nbconvert_exporter": "python",
   "pygments_lexer": "ipython3",
   "version": "3.10.7"
  }
 },
 "nbformat": 4,
 "nbformat_minor": 2
}
