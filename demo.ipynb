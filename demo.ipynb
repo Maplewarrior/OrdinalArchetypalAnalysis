{
 "cells": [
  {
   "cell_type": "markdown",
   "metadata": {},
   "source": [
    "#### This is a demo aimed at reproducing the main results presented in the paper \"Ordinal Archetypal Analysis for Modelling Human Response Bias\"."
   ]
  },
  {
   "cell_type": "markdown",
   "metadata": {},
   "source": [
    "### Configuration\n",
    "\n",
    "To keep hyperparameters and paths managable .yaml files are used for configuring experiments. Some parameters are covered in this demo - please consult config.yaml and the inline comments for an exhaustive overview. To keep the number of configuration files managable parts of the config are populated via the argparse in main.py.\n",
    "\n",
    "If you are ever in doubt about what parameters were used during an experiment refer to the \"experiment_config.json\" file found under the checkpoint directory."
   ]
  },
  {
   "cell_type": "code",
   "execution_count": null,
   "metadata": {},
   "outputs": [],
   "source": [
    "def print_data_params(cfg: dict):\n",
    "    if cfg['data']['use_synthetic_data']:\n",
    "        print(\"\\nQuestionnaire data will be synthetic with parameters:\")\n",
    "        [print(f\"{k}: {v}\") for k, v in cfg['data']['synthetic_data_params'].items()]\n",
    "    else:\n",
    "        print(f\"Questionnaire data will be loaded from {cfg['data']['input_data_path']}\")\n",
    "\n",
    "    if cfg['data']['do_corrupt']:\n",
    "        print(f\"Data will be corrupted with probability {cfg['data']['p_corrupt']}\")\n",
    "\n",
    "    print(\"\\nresults will be saved to: \", cfg['data']['results']['checkpoint_dir'])\n",
    "\n",
    "def print_hyperparams(cfg: dict):\n",
    "    print(\"hyperparameters for which all combinations will be tested:\\n\")\n",
    "    [print(f'{k}: {v}') for k, v in cfg['training']['parameter_tuning'].items()]\n",
    "    print(\"\")"
   ]
  },
  {
   "cell_type": "markdown",
   "metadata": {},
   "source": [
    "## Synthetic experiments\n",
    "\n",
    "Below some key data parameters for the experiment are shown."
   ]
  },
  {
   "cell_type": "code",
   "execution_count": null,
   "metadata": {},
   "outputs": [],
   "source": [
    "from src.misc.read_config import load_config\n",
    "config_path = 'configs/config.yaml'\n",
    "synthetic_cfg = load_config('configs/config.yaml')\n",
    "# synthetic_cfg = set_params(synthetic_cfg, synthetic=True, M=20, rb=True, checkpoint_dir='results/synthetic_Q20_RB')\n",
    "print_data_params(synthetic_cfg)"
   ]
  },
  {
   "cell_type": "markdown",
   "metadata": {},
   "source": [
    "Here are some key analysis parameters in the current configuration"
   ]
  },
  {
   "cell_type": "code",
   "execution_count": null,
   "metadata": {},
   "outputs": [],
   "source": [
    "print_hyperparams(synthetic_cfg)"
   ]
  },
  {
   "cell_type": "markdown",
   "metadata": {},
   "source": [
    "The below command runs analyses with the above hyperparameters"
   ]
  },
  {
   "cell_type": "code",
   "execution_count": null,
   "metadata": {},
   "outputs": [],
   "source": [
    "! python main.py analyse --config-path configs/config.yaml --save-folder synthetic_Q20_RB --M 20 --rb --OSM-path data/synthetic/X_Q20_RB_OSM.csv"
   ]
  },
  {
   "cell_type": "markdown",
   "metadata": {},
   "source": [
    "To visualize the analysis results run:"
   ]
  },
  {
   "cell_type": "code",
   "execution_count": null,
   "metadata": {},
   "outputs": [],
   "source": [
    "! python main.py visualize --config-path configs/config.yaml --save-folder synthetic_Q20_RB"
   ]
  },
  {
   "cell_type": "markdown",
   "metadata": {},
   "source": [
    "#### Corruption experiment\n",
    "To run the data corruption experiment corresponding to the above analysis, we will overwrite a few of the config parameters."
   ]
  },
  {
   "cell_type": "code",
   "execution_count": null,
   "metadata": {},
   "outputs": [],
   "source": [
    "! python main.py analyse --config-path configs/config.yaml --rb --M 20 --corrupt --save-folder synthetic_Q20_RB_corrupted --OSM-path data/synthetic/X_Q20_RB_corrupted_OSM.csv\n",
    "\n",
    "! python main.py visualize --config-path configs/config.yaml --save-folder synthetic_Q20_RB_corrupted --corrupt"
   ]
  },
  {
   "cell_type": "code",
   "execution_count": null,
   "metadata": {},
   "outputs": [],
   "source": [
    "! python main.py visualize --config-path configs/config.yaml --save-folder synthetic_Q20_RB_corrupted --corrupt"
   ]
  },
  {
   "cell_type": "markdown",
   "metadata": {},
   "source": [
    "#### No RB experiment"
   ]
  },
  {
   "cell_type": "code",
   "execution_count": null,
   "metadata": {},
   "outputs": [],
   "source": [
    "! python main.py analyse --config-path configs/config.yaml --save-folder synthetic_Q20_NoRB --M 20 --OSM-path data/synthetic/No_RB_OSM.csv\n",
    "! python main.py visualize --config-path configs/config.yaml --save-folder synthetic_Q20_NoRB"
   ]
  },
  {
   "cell_type": "markdown",
   "metadata": {},
   "source": [
    "And to run the experiment with corruption execute the following:"
   ]
  },
  {
   "cell_type": "code",
   "execution_count": null,
   "metadata": {},
   "outputs": [],
   "source": [
    "! python main.py analyse --config-path configs/config.yaml --M 20 --corrupt --save-folder synthetic_Q20_NoRB_corrupted --OSM-path data/synthetic/No_RB_OSM_corrupted.csv\n",
    "\n",
    "! python main.py visualize --config-path configs/config.yaml --corrupt --save-folder synthetic_Q20_NoRB_corrupted"
   ]
  },
  {
   "cell_type": "markdown",
   "metadata": {},
   "source": [
    "## OSM Experiments\n",
    "The authors of the OSM implemented their method in R. Therefore, the path to the output file of this analysis needs to be specified in order to run these analyses. If synthetic data is used, the paths to $\\textbf{Z}$ and $\\textbf{A}$ should be specified in the config too. We provide these files for our experiments via a drive link in Github."
   ]
  },
  {
   "cell_type": "markdown",
   "metadata": {},
   "source": [
    "## ESS8 experiments"
   ]
  },
  {
   "cell_type": "code",
   "execution_count": null,
   "metadata": {},
   "outputs": [],
   "source": [
    "ess8_cfg = load_config('configs/ESS8_config.yaml')\n",
    "print_data_params(ess8_cfg)\n",
    "print_hyperparams(ess8_cfg)"
   ]
  },
  {
   "cell_type": "code",
   "execution_count": null,
   "metadata": {},
   "outputs": [],
   "source": [
    "!python main.py analyse --config-path configs/ESS8_config.yaml --save-folder ESS8_GB --X-path data/ESS8/ESS8_GB.csv --OSM-path data/ESS8/GB_OSM.csv\n",
    "\n",
    "!python main.py visualize ----config-path configs/ESS8_config.yaml --save-folder ESS8_GB"
   ]
  },
  {
   "cell_type": "code",
   "execution_count": null,
   "metadata": {},
   "outputs": [],
   "source": [
    "!python main.py analyse --config-path configs/ESS8_config.yaml --save-folder ESS8_GB_corrupted --corrupt --X-path data/ESS8/ESS8_GB.csv --OSM-path data/ESS8/GB_data_OSM_corrupted.csv\n",
    "\n",
    "!python mainl.py visualize --config-path configs/ESS8_config.yaml --save-folder ESS8_GB_corrupted"
   ]
  }
 ],
 "metadata": {
  "kernelspec": {
   "display_name": "venv",
   "language": "python",
   "name": "python3"
  },
  "language_info": {
   "codemirror_mode": {
    "name": "ipython",
    "version": 3
   },
   "file_extension": ".py",
   "mimetype": "text/x-python",
   "name": "python",
   "nbconvert_exporter": "python",
   "pygments_lexer": "ipython3",
   "version": "3.10.10"
  }
 },
 "nbformat": 4,
 "nbformat_minor": 2
}
