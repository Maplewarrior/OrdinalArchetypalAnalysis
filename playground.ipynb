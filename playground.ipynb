{
 "cells": [
  {
   "cell_type": "code",
   "execution_count": 2,
   "metadata": {},
   "outputs": [],
   "source": [
    "import pandas as pd\n",
    "import numpy as np\n",
    "\n",
    "from src.methods.CAA_class import _CAA\n",
    "from src.methods.OAA_class import _OAA\n",
    "from src.methods.RBOAA_class import _RBOAA\n",
    "\n",
    "from src.utils.synthetic_data_class import _synthetic_data\n",
    "from src.utils.synthetic_data_naive import synthetic_data_naive\n",
    "\n",
    "from src.utils.eval_measures import NMI, MCC"
   ]
  },
  {
   "cell_type": "markdown",
   "metadata": {},
   "source": [
    "### Loading in previously generated synthetic data"
   ]
  },
  {
   "cell_type": "code",
   "execution_count": 7,
   "metadata": {},
   "outputs": [],
   "source": [
    "X_1000 = np.load('SyntheticData/1000_respondents/X.npy') # questionnaire data\n",
    "A_1000 = np.load('SyntheticData/1000_respondents/A.npy') # weighting of respondents on archetypes\n",
    "Z_1000 = np.load('SyntheticData/1000_respondents/Z.npy') # archetype matrix (X @ B)"
   ]
  },
  {
   "cell_type": "code",
   "execution_count": 10,
   "metadata": {},
   "outputs": [
    {
     "name": "stdout",
     "output_type": "stream",
     "text": [
      "X: (20, 1000)\n",
      "A: (3, 1000)\n",
      "Z: (3, 1000)\n"
     ]
    }
   ],
   "source": [
    "print(f'X: {X_1000.shape}')\n",
    "print(f'A: {A_1000.shape}') # [n_archetypes x n_respondents]\n",
    "print(f'Z: {A_1000.shape}')"
   ]
  },
  {
   "cell_type": "markdown",
   "metadata": {},
   "source": [
    "### Perform analysis with RBOAA"
   ]
  },
  {
   "cell_type": "code",
   "execution_count": 12,
   "metadata": {},
   "outputs": [
    {
     "name": "stdout",
     "output_type": "stream",
     "text": [
      "\n",
      "Response Bias Ordinal Archetypal Analysis in progress...\n",
      "Finished Successfully after 3.4 seconds!                               \n",
      "\n",
      "\n",
      "Analysis ended due to early stopping.\n",
      "\n",
      "/////////////// INFORMATION ABOUT RESPONSE BIAS ORDINAL ARCHETYPAL ANALYSIS \\\\\\\\\\\\\\\\\\\\\\\\\\\\\\\\\n",
      "▣ The Response Bias Ordinal Archetypal Analysis was computed using 3 archetypes.\n",
      "▣ The Response Bias Ordinal Archetypal Analysis was computed on 20 attributes.\n",
      "▣ The Response Bias Ordinal Archetypal Analysis was computed on 1000 subjects.\n",
      "▣ The Response Bias Ordinal Archetypal Analysis ran for 2201 iterations.\n",
      "▣ The Response Bias Ordinal Archetypal Analysis took 3.44 seconds to complete.\n",
      "▣ The final loss was: 2.133932590484619.\n"
     ]
    }
   ],
   "source": [
    "RBOAA = _RBOAA() # instantiate\n",
    "rboaa_result = RBOAA._compute_archetypes(X=X_1000,\n",
    "                          K=3, # how many archetypes to use for analysis\n",
    "                          p=5, # length of likert scale in X\n",
    "                          n_iter= 15000, # number of gradient steps\n",
    "                          lr=0.01,\n",
    "                          mute=False, # verbosity\n",
    "                          early_stopping=True, # whether to terminate if loss does not improve\n",
    "                          with_OAA_initialization=False, # whether to hotstart hyperparameters from OAA analysis\n",
    "                          beta_regulators=False, # whether to use c1 and c2 as additional hyperparameters to model ordinal scale arbitrarily\n",
    "                          alternating=False, # whether to first train with a low (and capped) sigma\n",
    "                          columns=[f'q{i}' for i in range(X_1000.shape[0])]\n",
    "                          )"
   ]
  },
  {
   "cell_type": "code",
   "execution_count": 13,
   "metadata": {},
   "outputs": [
    {
     "name": "stdout",
     "output_type": "stream",
     "text": [
      "NMI: 0.8879897047419514\n",
      "MCC: 0.9974331151366035\n"
     ]
    }
   ],
   "source": [
    "### Extract A and Z matrices from RBOAA result object and compute NMI and MCC\n",
    "print(f'NMI: {NMI(rboaa_result.A, A_1000)}')\n",
    "print(f'MCC: {MCC(rboaa_result.Z, Z_1000)}')"
   ]
  },
  {
   "cell_type": "markdown",
   "metadata": {},
   "source": [
    "Closing remarks:\n",
    "* The other methods e.g. OAA and RBOAA also have a _compute_archetypes method which creates a result object.\n",
    "* The parameters to OAA._compute archetypes are identical to that of RBOAA\n",
    "* We set up a wrapper class (inside AAM.py). I will make the new changes compatible with that interface before publication - it is not critical for generating results but only helps the user experience."
   ]
  },
  {
   "cell_type": "code",
   "execution_count": null,
   "metadata": {},
   "outputs": [],
   "source": []
  }
 ],
 "metadata": {
  "kernelspec": {
   "display_name": "venv",
   "language": "python",
   "name": "python3"
  },
  "language_info": {
   "codemirror_mode": {
    "name": "ipython",
    "version": 3
   },
   "file_extension": ".py",
   "mimetype": "text/x-python",
   "name": "python",
   "nbconvert_exporter": "python",
   "pygments_lexer": "ipython3",
   "version": "3.10.10"
  }
 },
 "nbformat": 4,
 "nbformat_minor": 2
}
