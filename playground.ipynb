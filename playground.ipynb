{
 "cells": [
  {
   "cell_type": "markdown",
   "metadata": {},
   "source": [
    "# Create Data"
   ]
  },
  {
   "cell_type": "code",
   "execution_count": 77,
   "metadata": {},
   "outputs": [
    {
     "name": "stdout",
     "output_type": "stream",
     "text": [
      "True\n"
     ]
    }
   ],
   "source": []
  },
  {
   "cell_type": "code",
   "execution_count": 78,
   "metadata": {},
   "outputs": [],
   "source": [
    "from src.utils.synthetic_data_class import _synthetic_data\n",
    "from src.utils.corruptData import corruptData\n",
    "import numpy as np\n",
    "syn_data = _synthetic_data(N=1000, M=20, K=3, p=5, sigma=-9.21, rb=True, a_param=1, b_param=1.5, sigma_std=1e-6)\n",
    "X = syn_data.X\n",
    "X_cor, idx1, idx2 = corruptData(data=X.copy(), corruption_rate=0.01, likertScale=5)"
   ]
  },
  {
   "cell_type": "code",
   "execution_count": 84,
   "metadata": {},
   "outputs": [],
   "source": [
    "sd = _synthetic_data(**{'a_param': 1, 'b_param': 1.5, 'sigma': -9.21, 'sigma_std': 1e-06, 'N': 1000, 'M': 20, 'K': 3, 'rb': True, 'p': 5})"
   ]
  },
  {
   "cell_type": "code",
   "execution_count": 53,
   "metadata": {},
   "outputs": [
    {
     "name": "stdout",
     "output_type": "stream",
     "text": [
      "percent corrupted: 0.0084\n",
      "Is reproducible? True\n"
     ]
    }
   ],
   "source": [
    "print(f\"percent corrupted: {len(np.nonzero(X - X_cor)[0]) / len(X.ravel())}\")\n",
    "X_cor2, _, _ = corruptData(data=X.copy(), corruption_rate=0.01, likertScale=5)\n",
    "\n",
    "print(f\"Is reproducible? {(X_cor2 == X_cor).all()}\")"
   ]
  },
  {
   "cell_type": "code",
   "execution_count": 66,
   "metadata": {},
   "outputs": [],
   "source": [
    "from src.visualizations.functions import load_analyses, load_result_obj\n",
    "\n",
    "res_objs = load_analyses('results/synthetic_Q20_RB/')\n",
    "\n",
    "OAA_anal = res_objs['OAA']['K3'][2]\n",
    "TSAA_anal = res_objs['TSAA']['K3'][2]"
   ]
  },
  {
   "cell_type": "code",
   "execution_count": 63,
   "metadata": {},
   "outputs": [
    {
     "data": {
      "text/plain": [
       "array([[5.        , 1.87115141, 4.27622838, ..., 4.27622838, 5.        ,\n",
       "        4.27622838],\n",
       "       [5.        , 4.27622838, 3.1569473 , ..., 5.        , 4.27622838,\n",
       "        3.1569473 ],\n",
       "       [5.        , 1.        , 3.1569473 , ..., 1.87115141, 3.1569473 ,\n",
       "        3.1569473 ],\n",
       "       ...,\n",
       "       [4.27622838, 1.87115141, 3.1569473 , ..., 3.1569473 , 3.1569473 ,\n",
       "        3.1569473 ],\n",
       "       [4.27622838, 3.1569473 , 3.1569473 , ..., 4.27622838, 4.27622838,\n",
       "        1.        ],\n",
       "       [5.        , 4.27622838, 3.1569473 , ..., 5.        , 5.        ,\n",
       "        1.        ]])"
      ]
     },
     "execution_count": 63,
     "metadata": {},
     "output_type": "execute_result"
    }
   ],
   "source": [
    "TSAA_anal.X"
   ]
  },
  {
   "cell_type": "code",
   "execution_count": 64,
   "metadata": {},
   "outputs": [
    {
     "data": {
      "text/plain": [
       "array([[2, 3, 2, ..., 3, 1, 1],\n",
       "       [2, 3, 2, ..., 3, 1, 1],\n",
       "       [2, 3, 2, ..., 2, 1, 1],\n",
       "       ...,\n",
       "       [3, 5, 3, ..., 5, 2, 4],\n",
       "       [2, 3, 2, ..., 3, 1, 2],\n",
       "       [3, 5, 3, ..., 5, 2, 4]])"
      ]
     },
     "execution_count": 64,
     "metadata": {},
     "output_type": "execute_result"
    }
   ],
   "source": [
    "OAA_anal.X"
   ]
  },
  {
   "cell_type": "code",
   "execution_count": 70,
   "metadata": {},
   "outputs": [
    {
     "data": {
      "text/plain": [
       "array([[5.        , 1.87115141, 4.27622838, ..., 4.27622838, 5.        ,\n",
       "        4.27622838],\n",
       "       [5.        , 4.27622838, 3.1569473 , ..., 5.        , 4.27622838,\n",
       "        3.1569473 ],\n",
       "       [5.        , 1.        , 3.1569473 , ..., 1.87115141, 3.1569473 ,\n",
       "        3.1569473 ],\n",
       "       ...,\n",
       "       [4.27622838, 1.87115141, 3.1569473 , ..., 3.1569473 , 3.1569473 ,\n",
       "        3.1569473 ],\n",
       "       [4.27622838, 3.1569473 , 3.1569473 , ..., 4.27622838, 4.27622838,\n",
       "        1.        ],\n",
       "       [5.        , 4.27622838, 3.1569473 , ..., 5.        , 5.        ,\n",
       "        1.        ]])"
      ]
     },
     "execution_count": 70,
     "metadata": {},
     "output_type": "execute_result"
    }
   ],
   "source": [
    "TSAA2_res=load_result_obj('CAA_K=3_rep=2')\n",
    "TSAA2_res.X"
   ]
  },
  {
   "cell_type": "code",
   "execution_count": 85,
   "metadata": {},
   "outputs": [],
   "source": [
    "from src.utils.synthetic_data_class import _synthetic_data\n",
    "sd = _synthetic_data(**{\"a_param\": 1.5, \"b_param\": 1.0, \"sigma\": -9.21, \"sigma_std\": 1e-06, \"N\": 1000, \"M\": 20, \"K\": 3, \"p\": 5, \"rb\": True})"
   ]
  },
  {
   "cell_type": "code",
   "execution_count": 87,
   "metadata": {},
   "outputs": [
    {
     "data": {
      "text/plain": [
       "array([[ True,  True,  True, ...,  True,  True,  True],\n",
       "       [ True,  True,  True, ...,  True,  True,  True],\n",
       "       [ True,  True,  True, ...,  True,  True,  True],\n",
       "       ...,\n",
       "       [ True,  True,  True, ...,  True,  True,  True],\n",
       "       [ True,  True,  True, ...,  True,  True,  True],\n",
       "       [ True,  True,  True, ...,  True,  True,  True]])"
      ]
     },
     "execution_count": 87,
     "metadata": {},
     "output_type": "execute_result"
    }
   ],
   "source": [
    "sd.X == OAA_anal.X"
   ]
  },
  {
   "cell_type": "code",
   "execution_count": null,
   "metadata": {},
   "outputs": [],
   "source": []
  }
 ],
 "metadata": {
  "kernelspec": {
   "display_name": "venv",
   "language": "python",
   "name": "python3"
  },
  "language_info": {
   "codemirror_mode": {
    "name": "ipython",
    "version": 3
   },
   "file_extension": ".py",
   "mimetype": "text/x-python",
   "name": "python",
   "nbconvert_exporter": "python",
   "pygments_lexer": "ipython3",
   "version": "3.10.10"
  }
 },
 "nbformat": 4,
 "nbformat_minor": 2
}
